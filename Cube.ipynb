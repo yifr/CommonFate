{
 "cells": [
  {
   "cell_type": "code",
   "execution_count": null,
   "metadata": {},
   "outputs": [],
   "source": [
    "import open3d as o3d\n",
    "import trimesh\n",
    "import pyrender\n",
    "import matplotlib.pyplot as plt\n",
    "import numpy as np"
   ]
  },
  {
   "cell_type": "code",
   "execution_count": null,
   "metadata": {},
   "outputs": [],
   "source": [
    "# def sample_spherical(npoints, ndim=3):\n",
    "#     vec = np.random.randn(ndim, npoints)\n",
    "#     vec /= np.linalg.norm(vec, axis=0)\n",
    "#     return vec.T\n",
    "\n",
    "\n",
    "# num_samples = 100000\n",
    "# theta = np.random.rand(num_samples) * np.pi\n",
    "# phi = np.random.rand(num_samples) * 2 * np.pi\n",
    "# x = np.sin(theta) * np.cos(phi)\n",
    "# y = np.sin(theta) * np.sin(phi)\n",
    "# z = np.cos(theta)\n",
    "\n",
    "# pcd = trimesh.PointCloud(\n",
    "#     vertices=[\n",
    "#         [0, 0, 0],\n",
    "#         [0, 0, 1],\n",
    "#         [0, 1, 0],\n",
    "#         [0, 1, 1],\n",
    "#         [1, 0, 0],\n",
    "#         [1, 0, 1],\n",
    "#         [1, 1, 0],\n",
    "#         [1, 1, 1]\n",
    "#     ]\n",
    "# )\n",
    "# pcd = o3d.geometry.PointCloud(points=o3d.open3d_pybind.utility.Vector3dVector(np.array([\n",
    "#     [0, 0, 0],\n",
    "#     [0, 0, 1],\n",
    "#     [0, 1, 0],\n",
    "#     [0, 1, 1],\n",
    "#     [1, 0, 0],\n",
    "#     [1, 0, 1],\n",
    "#     [1, 1, 0],\n",
    "#     [1, 1, 1]\n",
    "# ])))\n",
    "\n",
    "\n",
    "# pcd = o3d.geometry.PointCloud(points=o3d.open3d_pybind.utility.Vector3dVector(\n",
    "#     sample_spherical(num_samples)\n",
    "# #     np.stack([x, y, z], axis=-1)\n",
    "# ))\n",
    "\n",
    "\n",
    "\n",
    "# pcd.estimate_normals()\n",
    "\n",
    "# # estimate radius for rolling ball\n",
    "# distances = pcd.compute_nearest_neighbor_distance()\n",
    "# avg_dist = np.mean(distances)\n",
    "# radius = 1.5 * avg_dist   \n",
    "\n",
    "# mesh = o3d.geometry.TriangleMesh.create_from_point_cloud_ball_pivoting(\n",
    "#            pcd,\n",
    "#            o3d.utility.DoubleVector([radius, radius * 2]))\n",
    "\n",
    "# # create the triangular mesh with the vertices and faces from open3d\n",
    "# tri_mesh = trimesh.Trimesh(np.asarray(mesh.vertices), np.asarray(mesh.triangles),\n",
    "#                           vertex_normals=np.asarray(mesh.vertex_normals))\n",
    "\n",
    "# trimesh.convex.is_convex(tri_mesh)"
   ]
  },
  {
   "cell_type": "code",
   "execution_count": null,
   "metadata": {},
   "outputs": [],
   "source": [
    "tri_mesh = trimesh.primitives.Box()\n",
    "# tri_mesh = trimesh.primitives.Sphere()"
   ]
  },
  {
   "cell_type": "code",
   "execution_count": null,
   "metadata": {},
   "outputs": [],
   "source": [
    "pyrender_mesh = pyrender.Mesh.from_trimesh(tri_mesh)\n",
    "scene = pyrender.Scene()\n",
    "scene.add(pyrender_mesh)\n",
    "pyrender.Viewer(scene, use_raymond_lighting=True)"
   ]
  },
  {
   "cell_type": "code",
   "execution_count": null,
   "metadata": {},
   "outputs": [],
   "source": [
    "fuze_trimesh = trimesh.load('fuze.obj')\n",
    "\n",
    "\n",
    "mesh = pyrender.Mesh.from_trimesh(fuze_trimesh)\n",
    "scene = pyrender.Scene()\n",
    "scene.add(mesh)\n",
    "pyrender.Viewer(scene, use_raymond_lighting=True)"
   ]
  },
  {
   "cell_type": "code",
   "execution_count": null,
   "metadata": {},
   "outputs": [],
   "source": [
    "camera = pyrender.PerspectiveCamera(yfov=np.pi / 3.0, aspectRatio=1.0)\n",
    "s = np.sqrt(2)/2\n",
    "camera_pose = np.array([\n",
    "    [0.0, -s,   s,   0.3],\n",
    "   [1.0,  0.0, 0.0, 0.0],\n",
    "    [0.0,  s,   s,   0.35],\n",
    "    [0.0,  0.0, 0.0, 1.0],\n",
    "])\n",
    "scene.add(camera, pose=camera_pose)\n",
    "light = pyrender.SpotLight(color=np.ones(3), intensity=3.0,\n",
    "                           innerConeAngle=np.pi/16.0,\n",
    "                           outerConeAngle=np.pi/6.0)\n",
    "scene.add(light, pose=camera_pose)\n",
    "r = pyrender.OffscreenRenderer(400, 400)\n",
    "color, depth = r.render(scene)\n"
   ]
  },
  {
   "cell_type": "code",
   "execution_count": null,
   "metadata": {},
   "outputs": [],
   "source": []
  }
 ],
 "metadata": {
  "kernelspec": {
   "display_name": "Python 3",
   "language": "python",
   "name": "python3"
  },
  "language_info": {
   "codemirror_mode": {
    "name": "ipython",
    "version": 3
   },
   "file_extension": ".py",
   "mimetype": "text/x-python",
   "name": "python",
   "nbconvert_exporter": "python",
   "pygments_lexer": "ipython3",
   "version": "3.7.3"
  }
 },
 "nbformat": 4,
 "nbformat_minor": 2
}
