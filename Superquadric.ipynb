{
 "cells": [
  {
   "cell_type": "code",
   "execution_count": 1,
   "metadata": {},
   "outputs": [],
   "source": [
    "import numpy as np\n",
    "import plotly.graph_objects as go \n",
    "import pyrender \n",
    "import open3d as o3d\n",
    "import trimesh"
   ]
  },
  {
   "cell_type": "markdown",
   "metadata": {},
   "source": [
    "## Superquadrics\n",
    "\n",
    "A thorough overview of superquadrics: https://cse.buffalo.edu/~jryde/cse673/files/superquadrics.pdf\n",
    "\n",
    "### Implicit Equation\n",
    "The surface of a basic superquadric is given by: \n",
    "$$ \\vert x \\vert^r + \\vert y \\vert^s + \\vert z \\vert^t = 1 ,$$\n",
    "\n",
    "where $r, s$ and $t$ are positive real numbers that determine the main features of the superquadric:\n",
    " - $< 1$ : pointy octahedron\n",
    " - $= 1$: regular octahedron\n",
    " - $range(1, 2)$: blunt octahedron\n",
    " - $=2$ : sphere\n",
    " - $>2$ : cube modified to have rounded edges and corners\n",
    " \n",
    " We can scale these basic shapes as follows: \n",
    " \n",
    " $$ \\vert \\frac{x}{A} \\vert^r + \\vert \\frac{y}{B} \\vert^s + \\vert \\frac{z}{C} \\vert^t = 1 $$\n",
    "\n",
    "\n",
    "### Parametric description\n",
    "\n",
    "We can describe a superquadric with a parametric equation in terms of surface parameters u (longitude) and v (latitude) by:\n",
    "\n",
    "\\begin{align}\n",
    "& x(u,v) = Ag\\left(v, \\frac{2}{r}\\right)g\\left(u, \\frac{2}{r}\\right) \\\\\n",
    "& y(u,v) = Bg\\left(v, \\frac{2}{s}\\right)f\\left(u, \\frac{2}{s}\\right) \\\\\n",
    "& z(u,v) = Cf\\left(v, \\frac{2}{t}\\right) \\\\\n",
    "& -\\frac{\\pi}{2} \\leq v \\leq \\frac{\\pi}{2}, \\quad -\\pi \\leq u \\leq \\pi\n",
    "\\end{align}\n",
    "\n",
    "The auxilary functions $f$ and $g$ are:\n",
    "\n",
    "\\begin{align}\n",
    "& f(\\omega, m) = sgn(\\sin \\omega) \\vert \\sin \\omega \\vert^m \\\\\n",
    "& f(\\omega, m) = sgn(\\cos \\omega) \\vert \\cos \\omega \\vert^m \\\\\n",
    "\\end{align}\n",
    "\n",
    "where $sgn(x)$ is the sign function (-1 if x < 0, 0 if x == 0, 1 if x > 0) "
   ]
  },
  {
   "cell_type": "code",
   "execution_count": 107,
   "metadata": {},
   "outputs": [],
   "source": [
    "def fexp(omega, m):\n",
    "    return np.sign(omega) * np.power(np.abs(omega), m)\n",
    "\n",
    "\n",
    "def get_eta_and_w(n, eta_max=np.pi/2, w_max=np.pi):\n",
    "    '''\n",
    "    Taken from: https://github.com/HawaiiZeng/Superquadrics/blob/master/superquadrics.py\n",
    "    '''\n",
    "    eta_min = -eta_max\n",
    "    w_min = -w_max\n",
    "    d_w = (w_max - w_min) / n\n",
    "    \n",
    "    # When the range = 2PI, one point will be overlapped\n",
    "    x = np.linspace(0, n, n + 1)\n",
    "    if eta_max == np.pi / 2:\n",
    "        n = n - 1\n",
    "    y = np.linspace(0, n, n + 1)\n",
    "    \n",
    "    d_eta = (eta_max - eta_min) / n\n",
    "\n",
    "    yv, xv = np.meshgrid(y, x)\n",
    "    eta = eta_min + yv * d_eta\n",
    "    w = w_min + xv * d_w\n",
    "    return eta, w\n",
    "\n",
    "\n",
    "def supertoroid(epsilon, A, n=50):\n",
    "    '''\n",
    "        ref: https://cse.buffalo.edu/~jryde/cse673/files/superquadrics.pdf EQ 2.22\n",
    "        A is now a list of 4 scaling factors\n",
    "    '''\n",
    "    eta, w = get_eta_and_w(n, eta_max=np.pi, w_max=np.pi)\n",
    "    \n",
    "    x = A[0] * (A[3] + fexp(np.cos(eta), epsilon[0])) * fexp(np.cos(w), epsilon[0])\n",
    "    y = A[1] * (A[3] + fexp(np.cos(eta), epsilon[1])) * fexp(np.sin(w), epsilon[1])\n",
    "    z = A[3] * fexp(np.sin(eta), epsilon[2])\n",
    "    \n",
    "    return x,y,z\n",
    "    \n",
    "def superellipsoid(epsilon, A, n=50):\n",
    "    '''\n",
    "    This follows the equation from: https://en.wikipedia.org/wiki/Superquadrics\n",
    "    epsilon is a 3-element vector: 2/r, 2/s, 2/t\n",
    "    A is a 3-element vector: A, B, C\n",
    "    '''\n",
    "    eta, w = get_eta_and_w(n)\n",
    "    \n",
    "    x = A[0] * fexp(np.sin(eta), epsilon[0]) * fexp(np.sin(w), epsilon[0])\n",
    "    y = A[1] * fexp(np.sin(eta), epsilon[1]) * fexp(np.cos(w), epsilon[1])\n",
    "    z = A[2] * fexp(np.cos(eta), epsilon[2])\n",
    "    \n",
    "    return x,y,z"
   ]
  },
  {
   "cell_type": "code",
   "execution_count": 108,
   "metadata": {},
   "outputs": [],
   "source": [
    "def save_to_obj(save_path, x, y, z):\n",
    "    \"\"\"\n",
    "    This function saves super-ellpsoid w/o overlap: the rightmost vertices are not coincide with the leftmost points,\n",
    "    and only one vertex at the top and bottom\n",
    "    \"\"\"\n",
    "    x = np.transpose(x, (1, 0))\n",
    "    y = np.transpose(y, (1, 0))\n",
    "    z = np.transpose(z, (1, 0))\n",
    "    print(x.shape, y.shape, z.shape)\n",
    "    hei, wid = x.shape[0], x.shape[1]\n",
    "    count = 0\n",
    "    with open(save_path, \"w+\") as fout:\n",
    "        # vertices of body\n",
    "        for i in range(1, hei - 1):\n",
    "            for j in range(0, wid - 1):\n",
    "                fout.write(\"v %.3f %.3f %.3f\\n\" % (x[i, j], y[i, j], z[i, j]))\n",
    "                count += 1\n",
    "        # faces\n",
    "        for i in range(0, hei - 3):\n",
    "            for j in range(0, wid - 2):\n",
    "                fout.write(\"f %d %d %d %d\\n\" % (i * (wid - 1) + j + 1, i * (wid - 1) + j + 2, (i + 1) * (wid - 1) + j + 2, (i + 1) * (wid - 1) + j + 1))\n",
    "        for i in range(0, hei - 3):\n",
    "            fout.write(\"f %d %d %d %d\\n\" % (i * (wid - 1) + wid - 2 + 1, i * (wid - 1) + 0 + 1, (i + 1) * (wid - 1) + 0 + 1, (i + 1) * (wid - 1) + wid - 2 + 1))\n",
    "        fout.write(\"v %.3f %.3f %.3f\\n\" % (x[0, 0], y[0, 0], z[0, 0]))\n",
    "        fout.write(\"v %.3f %.3f %.3f\\n\" % (x[-1, -1], y[-1, -1], z[-1, -1]))\n",
    "        for j in range(0, wid - 2):\n",
    "            fout.write(\"f %d %d %d\\n\" % (count+1, j + 2, j + 1))\n",
    "        fout.write(\"f %d %d %d\\n\" % (count+1, 1, wid - 2 + 1))\n",
    "        for j in range(0, wid - 2):\n",
    "            fout.write(\"f %d %d %d\\n\" % (count+2, (hei - 3) * (wid - 1) + j + 1, (hei - 3) * (wid - 1) + j + 2))\n",
    "        fout.write(\"f %d %d %d\\n\" % (count+2, (hei - 3) * (wid - 1) + wid - 3 + 2, (hei - 3) * (wid - 1) + 1))\n"
   ]
  },
  {
   "cell_type": "code",
   "execution_count": 109,
   "metadata": {},
   "outputs": [
    {
     "name": "stdout",
     "output_type": "stream",
     "text": [
      "(50, 51) (50, 51) (50, 51)\n",
      "(201, 201) (201, 201) (201, 201)\n"
     ]
    }
   ],
   "source": [
    "epsilon = [2, 1, 1]\n",
    "scaling = [1,1,1]\n",
    "\n",
    "x,y,z = superellipsoid(epsilon, scaling)\n",
    "save_to_obj('objects/superellipsoid.obj', x, y, z)\n",
    "\n",
    "x,y,z = supertoroid(epsilon, [1,1,1,1], n=200)\n",
    "save_to_obj('objects/supertoroid.obj', x, y, z)\n"
   ]
  },
  {
   "cell_type": "code",
   "execution_count": 106,
   "metadata": {},
   "outputs": [
    {
     "name": "stderr",
     "output_type": "stream",
     "text": [
      "WARNING - 2020-11-03 16:25:52,840 - obj - faces have mixed data, using slow fallback!\n",
      "WARNING - 2020-11-03 16:25:53,175 - obj - faces have mixed data, using slow fallback!\n"
     ]
    },
    {
     "data": {
      "text/plain": [
       "Viewer(width=640, height=480)"
      ]
     },
     "execution_count": 106,
     "metadata": {},
     "output_type": "execute_result"
    }
   ],
   "source": [
    "s_toroid = trimesh.load('objects/supertoroid.obj')\n",
    "s_ellipsoid = trimesh.load('objects/superellipsoid.obj')\n",
    "\n",
    "toroid_mesh = pyrender.Mesh.from_trimesh(s_toroid)\n",
    "ellipsoid_mesh = pyrender.Mesh.from_trimesh(s_ellipsoid)\n",
    "\n",
    "scene = pyrender.Scene()\n",
    "#scene.add(toroid_mesh)\n",
    "scene.add(ellipsoid_mesh)\n",
    "pyrender.Viewer(scene, use_raymond_lighting=True)"
   ]
  },
  {
   "cell_type": "code",
   "execution_count": null,
   "metadata": {},
   "outputs": [],
   "source": []
  }
 ],
 "metadata": {
  "kernelspec": {
   "display_name": "Python 3",
   "language": "python",
   "name": "python3"
  },
  "language_info": {
   "codemirror_mode": {
    "name": "ipython",
    "version": 3
   },
   "file_extension": ".py",
   "mimetype": "text/x-python",
   "name": "python",
   "nbconvert_exporter": "python",
   "pygments_lexer": "ipython3",
   "version": "3.7.9"
  }
 },
 "nbformat": 4,
 "nbformat_minor": 4
}
